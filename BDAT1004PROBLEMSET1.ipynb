{
 "cells": [
  {
   "cell_type": "markdown",
   "id": "38219060",
   "metadata": {},
   "source": [
    "#BDAT 1004 PROBLEM SET 1"
   ]
  },
  {
   "cell_type": "code",
   "execution_count": 2,
   "id": "0dd6c0be",
   "metadata": {},
   "outputs": [
    {
     "name": "stdout",
     "output_type": "stream",
     "text": [
      "<class 'int'>\n",
      "<class 'float'>\n",
      "<class 'bool'>\n",
      "True\n",
      "<class 'str'>\n",
      "<class 'int'>\n",
      "10\n",
      "<class 'str'>\n",
      "55\n",
      "<class 'str'>\n",
      "52\n",
      "<class 'float'>\n",
      "2.5\n",
      "<class 'int'>\n",
      "1\n",
      "<class 'set'>\n",
      "<class 'bool'>\n",
      "False\n",
      "<class 'float'>\n",
      "3.141592653589793\n"
     ]
    }
   ],
   "source": [
    "#QUESTION 1\n",
    "\n",
    "\n",
    "print(type(5))\n",
    "print(type(5.0))\n",
    "print(type(5>1)), print(5>1)\n",
    "print(type('5'))\n",
    "print(type(5 * 2)),print(5*2)\n",
    "print(type('5'*2)),print('5'*2)\n",
    "print(type('5'+'2')),print('5'+'2')\n",
    "print(type(5/2)),print(5/2)\n",
    "print(type(5%2)),print(5%2)\n",
    "print(type({5,2,1}))\n",
    "print(type(5 == 3)),print(5 == 3)\n",
    "import math\n",
    "print(type(math.pi))\n",
    "print(math.pi)"
   ]
  },
  {
   "cell_type": "code",
   "execution_count": 3,
   "id": "cd3a9a0f",
   "metadata": {},
   "outputs": [
    {
     "name": "stdout",
     "output_type": "stream",
     "text": [
      "34\n",
      "True\n"
     ]
    }
   ],
   "source": [
    "# QUESTION 2 a\n",
    "\n",
    "#to get the lengh\n",
    "a='Supercalifragilisticexpialidocious'\n",
    "print(len(a))\n",
    "\n",
    "\n",
    "#QUESTION 2 b\n",
    " \n",
    "#to find the substring\n",
    "print(a.__contains__('ice'))"
   ]
  },
  {
   "cell_type": "code",
   "execution_count": 7,
   "id": "be7c3222",
   "metadata": {},
   "outputs": [
    {
     "name": "stdout",
     "output_type": "stream",
     "text": [
      "34\n",
      "27\n",
      "34\n"
     ]
    }
   ],
   "source": [
    "#QUESTION 2 c\n",
    "\n",
    "a='Supercalifragilisticexpialidocious'\n",
    "b='Honorificabilitudinitatibus'\n",
    "c='Bababadalgharaghtakamminarronnkonn'\n",
    "print(len(a))\n",
    "print(len(b))\n",
    "print(len(c))\n",
    "print"
   ]
  },
  {
   "cell_type": "code",
   "execution_count": 8,
   "id": "64cca4a7",
   "metadata": {},
   "outputs": [
    {
     "name": "stdout",
     "output_type": "stream",
     "text": [
      "['Bartok', 'Bellini', 'Berlioz', 'Bernstein', 'Borodin', 'Brian', 'Buxtehude']\n",
      "Bartok\n",
      "Buxtehude\n"
     ]
    }
   ],
   "source": [
    "#QUESTION 2 d\n",
    "# to find first and last composer\n",
    "composers = ['Berlioz', 'Borodin', 'Brian', 'Bartok', 'Bellini', 'Buxtehude', 'Bernstein']\n",
    "sort_composers = sorted(composers)\n",
    "print(sort_composers)\n",
    "print(sort_composers[0])\n",
    "print(sort_composers[6])"
   ]
  },
  {
   "cell_type": "code",
   "execution_count": 9,
   "id": "b26dedc6",
   "metadata": {},
   "outputs": [
    {
     "name": "stdout",
     "output_type": "stream",
     "text": [
      "1.7320508075688772\n"
     ]
    }
   ],
   "source": [
    "#QUESTION 3\n",
    "\n",
    "\n",
    "import math\n",
    "\n",
    "def triangleArea(a, b, c):\n",
    "    s = (a + b + c) / 2\n",
    "    area = math.sqrt(s * (s - a) * (s - b) * (s - c))\n",
    "    return area\n",
    "\n",
    "print(triangleArea(2, 2, 2))"
   ]
  },
  {
   "cell_type": "code",
   "execution_count": 10,
   "id": "460ec2d0",
   "metadata": {},
   "outputs": [
    {
     "name": "stdout",
     "output_type": "stream",
     "text": [
      "Input the number of elements to be stored in the array: 5\n",
      "element - 0: 25\n",
      "element - 1: 47\n",
      "element - 2: 42\n",
      "element - 3: 56\n",
      "element - 4: 32\n",
      "The Even elements are:\n",
      "42 56 32\n",
      "The Odd elements are:\n",
      "25 47\n"
     ]
    }
   ],
   "source": [
    "#QUESTION 4\n",
    "\n",
    "number of elements= int(input(\"Input the number of elements to be stored in the array: \"))\n",
    "arr = []\n",
    "for i in range(number of elements):\n",
    "    arr.append(int(input(\"element - {}: \".format(i))))\n",
    "\n",
    "even_arr = [x for x in arr if x % 2 == 0]\n",
    "odd_arr = [x for x in arr if x % 2 != 0]\n",
    "\n",
    "print(\"The Even elements are:\")\n",
    "print(*even_arr)\n",
    "print(\"The Odd elements are:\")\n",
    "print(*odd_arr)"
   ]
  },
  {
   "cell_type": "code",
   "execution_count": 11,
   "id": "9e945860",
   "metadata": {},
   "outputs": [
    {
     "name": "stdout",
     "output_type": "stream",
     "text": [
      "True\n",
      "False\n"
     ]
    }
   ],
   "source": [
    "#QUESTION 5 a\n",
    "\n",
    "def inside(x, y, x1, y1, x2, y2):\n",
    "    if x >= x1 and x <= x2 and y >= y1 and y <= y2:\n",
    "        return True\n",
    "    else:\n",
    "        return False\n",
    "\n",
    "print(inside(1, 1, 0, 0, 2, 3))\n",
    "print(inside(-1, -1, 0, 0, 2, 3))\n"
   ]
  },
  {
   "cell_type": "code",
   "execution_count": 12,
   "id": "2c2acb3c",
   "metadata": {},
   "outputs": [
    {
     "name": "stdout",
     "output_type": "stream",
     "text": [
      "False\n"
     ]
    }
   ],
   "source": [
    "#QUESTION 5 b\n",
    "\n",
    "def inside(x, y, x1, y1, x2, y2):\n",
    "    if x >= x1 and x <= x2 and y >= y1 and y <= y2:\n",
    "        return True\n",
    "    else:\n",
    "        return False\n",
    "\n",
    "print(inside(1, 1, 0.3, 0.5, 1.1, 0.7) and inside(1, 1, 0.5, 0.2, 1.1, 2))"
   ]
  },
  {
   "cell_type": "code",
   "execution_count": 13,
   "id": "4eba8ebf",
   "metadata": {},
   "outputs": [
    {
     "name": "stdout",
     "output_type": "stream",
     "text": [
      "appyhay\n",
      "enterway\n"
     ]
    }
   ],
   "source": [
    "#QUESTION 6\n",
    "\n",
    "def pig(word):\n",
    "    word = word.lower()\n",
    "    vowels = 'aeiou'\n",
    "    if word[0] in vowels:\n",
    "        return word + 'way'\n",
    "    else:\n",
    "        return word[1:] + word[0] + 'ay'\n",
    "    \n",
    "print(pig(\"happy\"))\n",
    "print(pig(\"Enter\"))"
   ]
  },
  {
   "cell_type": "code",
   "execution_count": 14,
   "id": "a724aec1",
   "metadata": {},
   "outputs": [
    {
     "name": "stdout",
     "output_type": "stream",
     "text": [
      "There are 15 patients of blood type A.\n",
      "There is one patient of blood type B.\n",
      "There are 13 patients of blood type AB.\n",
      "There are 15 patients of blood type O.\n",
      "There are no patients of blood type OO.\n"
     ]
    }
   ],
   "source": [
    "#QUESTION 7\n",
    "\n",
    "def bldcount(file_name):\n",
    "    file_path ='C:/Users/saran/Downloads/bloodtype1.txt'\n",
    "    with open(file_path) as f:\n",
    "        content = f.read()\n",
    "        blood_types = content.split()\n",
    "        blood_type_count = {'A': 0, 'B': 0, 'AB': 0, 'O': 0, 'OO': 0}\n",
    "        for bt in blood_types:\n",
    "            blood_type_count[bt] += 1\n",
    "        for bt, count in blood_type_count.items():\n",
    "            if count == 1:\n",
    "                print(f\"There is one patient of blood type {bt}.\")\n",
    "            elif count > 1:\n",
    "                print(f\"There are {count} patients of blood type {bt}.\")\n",
    "            else:\n",
    "                print(f\"There are no patients of blood type {bt}.\")\n",
    "\n",
    "bldcount(\"bloodtype.txt\")"
   ]
  },
  {
   "cell_type": "code",
   "execution_count": 15,
   "id": "6cd4f7cd",
   "metadata": {},
   "outputs": [
    {
     "name": "stdout",
     "output_type": "stream",
     "text": [
      "122.96544\n",
      "1.241401\n"
     ]
    }
   ],
   "source": [
    "# QUESTION 8\n",
    "\n",
    "def curconv(currency, amount):\n",
    "    exchange_rates = {}\n",
    "    with open(\"C:/Users/saran/Downloads/currencies.txt\") as f:\n",
    "        for line in f:\n",
    "            line_split = line.split()\n",
    "            exchange_rates[line_split[0]] = float(line_split[1])\n",
    "    return amount * exchange_rates[currency]\n",
    "print(curconv('EUR', 100))\n",
    "print(curconv('JPY', 100))"
   ]
  },
  {
   "cell_type": "markdown",
   "id": "4700fb22",
   "metadata": {},
   "source": [
    "##QUESTION 9\n",
    "\n",
    "1.An exception of TypeError will be raised if an attempt is made to add a numerical value of 6 to a string value of \"a\". \n",
    "2.If an attempt is made to access the 12th element of a list that has only 10 elements, an IndexError exception will be thrown.\n",
    "3.If an input value that falls outside the acceptable range is used in a function, a ValueError exception will occur, such as when trying to find the square root of a negative number using math.sqrt(-1.0).\n",
    "4.If an attempt is made to use a variable that has not been declared, a NameError exception will occur, such as trying to print the value of x before it has been defined.\n",
    "5.An exception of FileNotFoundError will be raised if a file that doesn't exist is tried to be opened, for example by providing an incorrect file name or looking in the wrong directory."
   ]
  },
  {
   "cell_type": "code",
   "execution_count": 16,
   "id": "6d0280bc",
   "metadata": {},
   "outputs": [],
   "source": [
    "# QUESTION 10\n",
    "\n",
    "def frequencies(text):\n",
    "    text = text.lower()\n",
    "    letters = 'abcdefghijklmnopqrstuvwxyz'\n",
    "    result = [0] * 26\n",
    "    for char in text:\n",
    "        if char in letters:\n",
    "            result[letters.index(char)] += 1\n",
    "    return result"
   ]
  },
  {
   "cell_type": "code",
   "execution_count": 17,
   "id": "dae48800",
   "metadata": {},
   "outputs": [
    {
     "data": {
      "text/plain": [
       "[1, 1, 1, 3, 5, 1, 1, 2, 1, 0, 1, 0, 1, 2, 4, 0, 1, 2, 0, 3, 1, 0, 1, 1, 0, 0]"
      ]
     },
     "execution_count": 17,
     "metadata": {},
     "output_type": "execute_result"
    }
   ],
   "source": [
    "frequencies('The quick red fox got bored and went home.')"
   ]
  },
  {
   "cell_type": "code",
   "execution_count": 18,
   "id": "257f8205",
   "metadata": {},
   "outputs": [
    {
     "data": {
      "text/plain": [
       "[1, 0, 0, 0, 1, 0, 0, 0, 0, 0, 0, 1, 0, 0, 0, 2, 0, 0, 0, 0, 0, 0, 0, 0, 0, 0]"
      ]
     },
     "execution_count": 18,
     "metadata": {},
     "output_type": "execute_result"
    }
   ],
   "source": [
    "frequencies('apple')"
   ]
  },
  {
   "cell_type": "code",
   "execution_count": null,
   "id": "58a22646",
   "metadata": {},
   "outputs": [],
   "source": []
  }
 ],
 "metadata": {
  "kernelspec": {
   "display_name": "Python 3 (ipykernel)",
   "language": "python",
   "name": "python3"
  },
  "language_info": {
   "codemirror_mode": {
    "name": "ipython",
    "version": 3
   },
   "file_extension": ".py",
   "mimetype": "text/x-python",
   "name": "python",
   "nbconvert_exporter": "python",
   "pygments_lexer": "ipython3",
   "version": "3.9.13"
  }
 },
 "nbformat": 4,
 "nbformat_minor": 5
}
